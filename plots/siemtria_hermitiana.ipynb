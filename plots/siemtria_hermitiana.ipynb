{
 "cells": [
  {
   "cell_type": "code",
   "execution_count": null,
   "id": "0c634ee9",
   "metadata": {},
   "outputs": [],
   "source": [
    "%run main.py"
   ]
  },
  {
   "cell_type": "markdown",
   "id": "f61611df",
   "metadata": {},
   "source": [
    "# Simetría hermitiana"
   ]
  },
  {
   "cell_type": "code",
   "execution_count": null,
   "id": "90de8d87",
   "metadata": {},
   "outputs": [],
   "source": [
    "input_signal = Signal()\n",
    "input_signal.description = \"$X(\\omega / \\omega_0)$\"\n",
    "input_signal.frequency_array = [-5, -4, -3, -2, -1, 0, 1, 2, 3, 4, 5]\n",
    "input_signal.X_magnitude_array = [4/5, 1, 4/3, 2, 4, 0, 4, 2, 4/3, 1, 4/5]\n",
    "input_signal.X_phase_array = np.rad2deg([-np.pi/2, 0, np.pi/2, -np.pi, -np.pi/2, 0, np.pi/2, np.pi, -np.pi/2, 0, np.pi/2])\n",
    "signal_graph = grapher.stem_spectrum(input_signal)\n",
    "archive.save_plot(signal_graph, \"ej_siemtria_hermitiana_x\")"
   ]
  },
  {
   "cell_type": "code",
   "execution_count": null,
   "id": "d9377000",
   "metadata": {},
   "outputs": [],
   "source": [
    "transfer_function = Signal()\n",
    "transfer_function.description = \"$H(\\omega / \\omega_0)$\"\n",
    "transfer_function.frequency_array = input_signal.frequency_array\n",
    "transfer_function.X_magnitude_array = [0, 0, 0, 1, 1, 1, 1, 1, 0, 0, 0]\n",
    "transfer_function.X_phase_array = np.rad2deg([-np.pi/4, np.pi, np.pi*3/4, np.pi/2, np.pi*1/4, 0, -np.pi*1/4, -np.pi/2, -np.pi*3/4, -np.pi, -np.pi/4])\n",
    "signal_graph = grapher.stem_spectrum(transfer_function)\n",
    "archive.save_plot(signal_graph, \"ej_siemtria_hermitiana_h\")"
   ]
  },
  {
   "cell_type": "code",
   "execution_count": null,
   "id": "db820e4e",
   "metadata": {},
   "outputs": [],
   "source": [
    "output_signal = Signal()\n",
    "output_signal.description = \"$Y(\\omega / \\omega_0)$\"\n",
    "output_signal.frequency_array = input_signal.frequency_array\n",
    "output_signal.X_magnitude_array = [0, 0, 0, 2, 4, 0, 4, 2, 0, 0, 0]\n",
    "output_signal.X_phase_array = np.rad2deg([-np.pi/4, np.pi, np.pi/4, -np.pi/2, -np.pi*1/4, 0, np.pi*1/4, np.pi/2, -np.pi*1/4, -np.pi, np.pi*1/4])\n",
    "signal_graph = grapher.stem_spectrum(output_signal)\n",
    "archive.save_plot(signal_graph, \"ej_siemtria_hermitiana_y\")"
   ]
  }
 ],
 "metadata": {
  "kernelspec": {
   "display_name": "Python 3",
   "language": "python",
   "name": "python3"
  },
  "language_info": {
   "codemirror_mode": {
    "name": "ipython",
    "version": 3
   },
   "file_extension": ".py",
   "mimetype": "text/x-python",
   "name": "python",
   "nbconvert_exporter": "python",
   "pygments_lexer": "ipython3",
   "version": "3.11.2"
  }
 },
 "nbformat": 4,
 "nbformat_minor": 5
}
