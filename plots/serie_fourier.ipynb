{
 "cells": [
  {
   "cell_type": "code",
   "execution_count": null,
   "id": "c1cfe501",
   "metadata": {},
   "outputs": [],
   "source": [
    "%run main.py"
   ]
  },
  {
   "cell_type": "markdown",
   "id": "abda22d6",
   "metadata": {},
   "source": [
    "# Serie de Fourier"
   ]
  },
  {
   "cell_type": "code",
   "execution_count": null,
   "id": "57f8f73d",
   "metadata": {},
   "outputs": [],
   "source": [
    "input_signal = Signal()\n",
    "input_signal.description = \"$X(\\omega / \\omega_0)$\"\n",
    "input_signal.frequency_array = [-2, -1, 0, 1, 2]\n",
    "input_signal.X_magnitude_array = [6, 2, 2, 2, 6]\n",
    "input_signal.X_phase_array = np.rad2deg([np.pi/3, -np.pi/2, 0, np.pi/2, -np.pi/3])\n",
    "signal_graph = grapher.stem_spectrum(input_signal)\n",
    "archive.save_plot(signal_graph, \"ej_serie_fourier\")"
   ]
  }
 ],
 "metadata": {
  "kernelspec": {
   "display_name": "Python 3",
   "language": "python",
   "name": "python3"
  },
  "language_info": {
   "codemirror_mode": {
    "name": "ipython",
    "version": 3
   },
   "file_extension": ".py",
   "mimetype": "text/x-python",
   "name": "python",
   "nbconvert_exporter": "python",
   "pygments_lexer": "ipython3",
   "version": "3.11.2"
  }
 },
 "nbformat": 4,
 "nbformat_minor": 5
}
