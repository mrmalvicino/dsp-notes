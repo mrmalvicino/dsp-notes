{
 "cells": [
  {
   "cell_type": "code",
   "execution_count": null,
   "id": "ce892b80",
   "metadata": {},
   "outputs": [],
   "source": [
    "%run main.py"
   ]
  },
  {
   "cell_type": "markdown",
   "id": "a2696f8a",
   "metadata": {},
   "source": [
    "# Fase lineal"
   ]
  },
  {
   "cell_type": "code",
   "execution_count": null,
   "id": "d5f27349",
   "metadata": {},
   "outputs": [],
   "source": [
    "x_1 = generator.sinewave(\n",
    "    fundamental_frequency = 1000,\n",
    "    fundamental_amplitude = 1,\n",
    "    fundamental_phase = 0,\n",
    "    number_of_periods = 1\n",
    ")\n",
    "\n",
    "y_1 = generator.sinewave(\n",
    "    fundamental_frequency = 1000,\n",
    "    fundamental_amplitude = 1,\n",
    "    fundamental_phase = -45,\n",
    "    number_of_periods = 1\n",
    ")\n",
    "\n",
    "x_2 = generator.sinewave(\n",
    "    fundamental_frequency = 2000,\n",
    "    fundamental_amplitude = 1,\n",
    "    fundamental_phase = 0,\n",
    "    number_of_periods = 2\n",
    ")\n",
    "\n",
    "y_2 = generator.sinewave(\n",
    "    fundamental_frequency = 2000,\n",
    "    fundamental_amplitude = 1,\n",
    "    fundamental_phase = -90,\n",
    "    number_of_periods = 2\n",
    ")\n",
    "\n"
   ]
  },
  {
   "cell_type": "code",
   "execution_count": null,
   "id": "da84c9d7",
   "metadata": {},
   "outputs": [],
   "source": [
    "signal_graph = grapher.plot_waveforms(\n",
    "    generator.sampling_rate,\n",
    "    x_1, y_1,\n",
    "    truncate_time=False\n",
    ")\n",
    "\n",
    "archive.save_plot(signal_graph, \"ej_fase_lineal_1\")\n",
    "\n",
    "signal_graph = grapher.plot_waveforms(\n",
    "    generator.sampling_rate,\n",
    "    x_2, y_2,\n",
    "    truncate_time=False\n",
    ")\n",
    "\n",
    "archive.save_plot(signal_graph, \"ej_fase_lineal_2\")"
   ]
  }
 ],
 "metadata": {
  "kernelspec": {
   "display_name": "Python 3",
   "language": "python",
   "name": "python3"
  },
  "language_info": {
   "codemirror_mode": {
    "name": "ipython",
    "version": 3
   },
   "file_extension": ".py",
   "mimetype": "text/x-python",
   "name": "python",
   "nbconvert_exporter": "python",
   "pygments_lexer": "ipython3",
   "version": "3.11.2"
  }
 },
 "nbformat": 4,
 "nbformat_minor": 5
}
